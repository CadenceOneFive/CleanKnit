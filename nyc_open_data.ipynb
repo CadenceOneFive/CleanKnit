{
 "cells": [
  {
   "cell_type": "markdown",
   "metadata": {},
   "source": [
    "# NYC Open Data Buildings-related Datasets\n",
    "\n",
    "## NYC on Socrata\n",
    "- [Address Points](https://data.cityofnewyork.us/City-Government/NYC-Address-Points/g6pj-hd8k) geodata.\n",
    "- [Primary Land Use Tax Lot Output (PLUTO)](https://data.cityofnewyork.us/City-Government/Primary-Land-Use-Tax-Lot-Output-PLUTO-/64uk-42ks) is the data under OASIS and DCP's own public mapping tools. Among other things, PLUTO has the building area, building dimensions, and primary uses. \n",
    "- [Property Address Directory](https://data.cityofnewyork.us/City-Government/Property-Address-Directory/bc8t-ecyu) has ancillary fields not in the main PLUTO, including alias addresses and secondary BBLs and BINs\n",
    "- [Multiple Dwelling Registrations](https://data.cityofnewyork.us/Housing-Development/Multiple-Dwelling-Registrations/tesw-yqqr) Buildings with 3 or more units of rental housing\n",
    "- [DOB Certificate Of Occupancy](https://data.cityofnewyork.us/Housing-Development/DOB-Certificate-Of-Occupancy/bs8b-p36w) Can look at final COs for permitted uses, or look at TCOs for trace construction events\n",
    "- [Housing New York Units by Building](https://data.cityofnewyork.us/Housing-Development/Housing-New-York-Units-by-Building/hg8x-zxpr) City-funded affordable housing since 2014. A building appearing on this list is affordable housing. Provides unit counts by apt size.\n",
    "- [Local Law 44 - Building](https://data.cityofnewyork.us/Housing-Development/Local-Law-44-Building/hu6m-9cfi) is one of [several LL44-related](https://data.cityofnewyork.us/browse?q=local%20Law%2044&sortBy=relevance) data sets. If a building appears on a LL44 list, it is probably affordable housing. \n",
    "- [Deed Restriction Database](https://data.cityofnewyork.us/City-Government/Deed-Restriction-Database/rfu7-paqe) Search description field for \"low-income.\" If a building has a deed restriction, it is affordable housing\n",
    "- [Inclusionary Housing](https://data.cityofnewyork.us/browse?q=HPD%20Inclusionary%20Housing&sortBy=relevance) data sets - generating buildings have affordable housing.\n",
    "- [Local Law 7-2018 Qualified Transactions](https://data.cityofnewyork.us/Housing-Development/Local-Law-7-2018-Qualified-Transactions/8wi4-bsy4) Sales of rent-regulated buildings. The basis for HPD's [speculation watch list](https://www1.nyc.gov/site/hpd/about/speculation-watch-list.page), updated quarterly. If a building appears on this list, it is most likely rent-regulated housing.\n",
    "- [J-51 Exemption and Abatement](https://data.cityofnewyork.us/City-Government/J-51-Exemption-and-Abatement/y7az-s7wc) can be used to check if a building was considered affordable housing at the time that it received a rehab abatement. Affordable housing will have 34 years as the duration whereas non-affordable housing will have 14 years as the duration. As with other data points, this is only one data point in determining whether a building is likely to be affordable housing.\n",
    "- [DOB NOW: Electrical Permit Applications](https://data.cityofnewyork.us/City-Government/DOB-NOW-Electrical-Permit-Applications/dm9a-ab7w) see field for HVAC wiring and Boiler Burner wiring\n",
    "- [DOB NOW: Safety Boiler](https://data.cityofnewyork.us/Housing-Development/DOB-NOW-Safety-Boiler/52dp-yji6) Make-model-size of large boilers\n",
    "- [DOB NOW - Elevator Info](https://data.ny.gov/Energy-Environment/Multifamily-Residential-Existing-and-New-Construct/xt6e-eyna) maybe useful to identify basement levels, see TRAVEL_FROM_FLOOR field\n",
    "\n",
    "## NY State on Socrata\n",
    "- [NY-funded Solar](https://data.ny.gov/Energy-Environment/Solar-Electric-Programs-Reported-by-NYSERDA-Beginn/3x8r-34rs) since 2000\n",
    "- [NY-funded DERs](https://data.ny.gov/Energy-Environment/Distributed-Energy-Resources-Integrated-Data-Syste/bteb-rkif), including solar and CHP, since 2001\n",
    "- [NYSERDA MPP](https://data.ny.gov/Energy-Environment/Multifamily-Residential-Existing-and-New-Construct/xt6e-eyna) starting 2005. Includes ECMs\n"
   ]
  },
  {
   "cell_type": "code",
   "execution_count": null,
   "metadata": {},
   "outputs": [],
   "source": []
  }
 ],
 "metadata": {
  "language_info": {
   "name": "python"
  },
  "orig_nbformat": 4
 },
 "nbformat": 4,
 "nbformat_minor": 2
}

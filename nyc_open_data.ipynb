{
 "cells": [
  {
   "cell_type": "markdown",
   "metadata": {},
   "source": [
    "# NYC Open Data Buildings-related Datasets\n",
    "\n",
    "## NYC on Socrata\n",
    "- [Address Points](https://data.cityofnewyork.us/City-Government/NYC-Address-Points/g6pj-hd8k) geodata.\n",
    "- [Primary Land Use Tax Lot Output (PLUTO)](https://data.cityofnewyork.us/City-Government/Primary-Land-Use-Tax-Lot-Output-PLUTO-/64uk-42ks) is the data under OASIS and DCP's own public mapping tools. Among other things, PLUTO has the building area, building dimensions, and primary uses. \n",
    "- [Property Address Directory](https://data.cityofnewyork.us/City-Government/Property-Address-Directory/bc8t-ecyu) has ancillary fields not in the main PLUTO, including alias addresses and secondary BBLs and BINs\n",
    "- [Multiple Dwelling Registrations](https://data.cityofnewyork.us/Housing-Development/Multiple-Dwelling-Registrations/tesw-yqqr) Buildings with 3 or more units of rental housing\n",
    "- [DOB Certificate Of Occupancy](https://data.cityofnewyork.us/Housing-Development/DOB-Certificate-Of-Occupancy/bs8b-p36w) Can look at final COs for permitted uses, or look at TCOs for trace construction events\n",
    "- [Housing New York Units by Building](https://data.cityofnewyork.us/Housing-Development/Housing-New-York-Units-by-Building/hg8x-zxpr) City-funded affordable housing since 2014. A building appearing on this list is affordable housing. Provides unit counts by apt size.\n",
    "- [Local Law 44 - Building](https://data.cityofnewyork.us/Housing-Development/Local-Law-44-Building/hu6m-9cfi) is one of [several LL44-related](https://data.cityofnewyork.us/browse?q=local%20Law%2044&sortBy=relevance) data sets. If a building appears on a LL44 list, it is probably affordable housing. \n",
    "- [Deed Restriction Database](https://data.cityofnewyork.us/City-Government/Deed-Restriction-Database/rfu7-paqe) Search description field for \"low-income.\" If a building has a deed restriction, it is affordable housing\n",
    "- [Inclusionary Housing](https://data.cityofnewyork.us/browse?q=HPD%20Inclusionary%20Housing&sortBy=relevance) data sets - generating buildings have affordable housing.\n",
    "- [Local Law 7-2018 Qualified Transactions](https://data.cityofnewyork.us/Housing-Development/Local-Law-7-2018-Qualified-Transactions/8wi4-bsy4) Sales of rent-regulated buildings. The basis for HPD's [speculation watch list](https://www1.nyc.gov/site/hpd/about/speculation-watch-list.page), updated quarterly. If a building appears on this list, it is most likely rent-regulated housing.\n",
    "- [J-51 Exemption and Abatement](https://data.cityofnewyork.us/City-Government/J-51-Exemption-and-Abatement/y7az-s7wc) can be used to check if a building was considered affordable housing at the time that it received a rehab abatement. Affordable housing will have 34 years as the duration whereas non-affordable housing will have 14 years as the duration. As with other data points, this is only one data point in determining whether a building is likely to be affordable housing.\n",
    "- [DOB NOW: Electrical Permit Applications](https://data.cityofnewyork.us/City-Government/DOB-NOW-Electrical-Permit-Applications/dm9a-ab7w) see field for HVAC wiring and Boiler Burner wiring\n",
    "- [DOB NOW: Safety Boiler](https://data.cityofnewyork.us/Housing-Development/DOB-NOW-Safety-Boiler/52dp-yji6) Make-model-size of large boilers\n",
    "- [DOB NOW - Elevator Info](https://data.ny.gov/Energy-Environment/Multifamily-Residential-Existing-and-New-Construct/xt6e-eyna) maybe useful to identify basement levels, see TRAVEL_FROM_FLOOR field\n",
    "\n",
    "## NY State on Socrata\n",
    "- [NY-funded Solar](https://data.ny.gov/Energy-Environment/Solar-Electric-Programs-Reported-by-NYSERDA-Beginn/3x8r-34rs) since 2000\n",
    "- [NY-funded DERs](https://data.ny.gov/Energy-Environment/Distributed-Energy-Resources-Integrated-Data-Syste/bteb-rkif), including solar and CHP, since 2001\n",
    "- [NYSERDA MPP](https://data.ny.gov/Energy-Environment/Multifamily-Residential-Existing-and-New-Construct/xt6e-eyna) starting 2005. Includes ECMs\n"
   ]
  },
  {
   "cell_type": "code",
   "execution_count": 133,
   "metadata": {},
   "outputs": [],
   "source": [
    "# Imports normally go at the top of the file\n",
    "import requests\n",
    "import json\n",
    "from pathlib import Path\n",
    "\n",
    "from urllib.request import urlopen\n",
    "import nbformat\n",
    "import mistletoe\n",
    "from mistletoe.ast_renderer import ASTRenderer\n",
    "import io\n",
    "import jmespath\n",
    "import jsonpath_ng\n",
    "from jsonpath_ng.ext import parse\n",
    "import urllib.parse \n",
    "from urllib.parse import urlparse\n",
    "\n",
    "from pathlib import Path\n"
   ]
  },
  {
   "cell_type": "code",
   "execution_count": 110,
   "metadata": {},
   "outputs": [],
   "source": [
    "# read myself!\n",
    "contents=open('nyc_open_data.ipynb').read()\n",
    "\n",
    "# The notebook is some kind of JSON that nbformat knows how to handle\n",
    "this_notebook = nbformat.reads(contents, as_version=4)\n",
    "\n",
    "# We can get the source of cell 0 which we happen to know is a markdown cell\n",
    "source = io.StringIO(this_notebook.cells[0]['source'])\n",
    "\n",
    "# Now we can use convert markdown to JSON and then to a data-structure so that\n",
    "# we can use path-expressions to search it.\n",
    "data =json.loads(mistletoe.markdown(source, ASTRenderer))"
   ]
  },
  {
   "cell_type": "code",
   "execution_count": 137,
   "metadata": {},
   "outputs": [
    {
     "name": "stdout",
     "output_type": "stream",
     "text": [
      "g6pj-hd8k https://data.cityofnewyork.us/City-Government/NYC-Address-Points/g6pj-hd8k Address Points\n",
      "64uk-42ks https://data.cityofnewyork.us/City-Government/Primary-Land-Use-Tax-Lot-Output-PLUTO-/64uk-42ks Primary Land Use Tax Lot Output (PLUTO)\n",
      "bc8t-ecyu https://data.cityofnewyork.us/City-Government/Property-Address-Directory/bc8t-ecyu Property Address Directory\n",
      "tesw-yqqr https://data.cityofnewyork.us/Housing-Development/Multiple-Dwelling-Registrations/tesw-yqqr Multiple Dwelling Registrations\n",
      "bs8b-p36w https://data.cityofnewyork.us/Housing-Development/DOB-Certificate-Of-Occupancy/bs8b-p36w DOB Certificate Of Occupancy\n",
      "hg8x-zxpr https://data.cityofnewyork.us/Housing-Development/Housing-New-York-Units-by-Building/hg8x-zxpr Housing New York Units by Building\n",
      "hu6m-9cfi https://data.cityofnewyork.us/Housing-Development/Local-Law-44-Building/hu6m-9cfi Local Law 44 - Building\n",
      "browse https://data.cityofnewyork.us/browse?q=local%20Law%2044&sortBy=relevance several LL44-related\n",
      "rfu7-paqe https://data.cityofnewyork.us/City-Government/Deed-Restriction-Database/rfu7-paqe Deed Restriction Database\n",
      "browse https://data.cityofnewyork.us/browse?q=HPD%20Inclusionary%20Housing&sortBy=relevance Inclusionary Housing\n",
      "8wi4-bsy4 https://data.cityofnewyork.us/Housing-Development/Local-Law-7-2018-Qualified-Transactions/8wi4-bsy4 Local Law 7-2018 Qualified Transactions\n",
      "speculation-watch-list.page https://www1.nyc.gov/site/hpd/about/speculation-watch-list.page speculation watch list\n",
      "y7az-s7wc https://data.cityofnewyork.us/City-Government/J-51-Exemption-and-Abatement/y7az-s7wc J-51 Exemption and Abatement\n",
      "dm9a-ab7w https://data.cityofnewyork.us/City-Government/DOB-NOW-Electrical-Permit-Applications/dm9a-ab7w DOB NOW: Electrical Permit Applications\n",
      "52dp-yji6 https://data.cityofnewyork.us/Housing-Development/DOB-NOW-Safety-Boiler/52dp-yji6 DOB NOW: Safety Boiler\n",
      "xt6e-eyna https://data.ny.gov/Energy-Environment/Multifamily-Residential-Existing-and-New-Construct/xt6e-eyna DOB NOW - Elevator Info\n",
      "3x8r-34rs https://data.ny.gov/Energy-Environment/Solar-Electric-Programs-Reported-by-NYSERDA-Beginn/3x8r-34rs NY-funded Solar\n",
      "bteb-rkif https://data.ny.gov/Energy-Environment/Distributed-Energy-Resources-Integrated-Data-Syste/bteb-rkif NY-funded DERs\n",
      "xt6e-eyna https://data.ny.gov/Energy-Environment/Multifamily-Residential-Existing-and-New-Construct/xt6e-eyna NYSERDA MPP\n"
     ]
    }
   ],
   "source": [
    "# This is the query for a (recursive) search an object property 'target'\n",
    "q = jsonpath_ng.parse('$..target')\n",
    "\n",
    "# Now find all the matches\n",
    "match = q.find(data)\n",
    "\n",
    "resources=[]\n",
    "for m in match:\n",
    "    # this is a bit cumbersome but it I think it is preferable to parsing the markdon.\n",
    "    # I have a strong preference for declarative search terms (e.g. $..target)\n",
    "    u = urlparse(m.value)\n",
    "    p = Path(u.path)\n",
    "    socrata_resource_id = p.name\n",
    "    resources.append(socrata_resource_id)\n",
    "    print(socrata_resource_id, m.value, m.context.value['children'][0]['content'])"
   ]
  },
  {
   "cell_type": "code",
   "execution_count": 138,
   "metadata": {},
   "outputs": [
    {
     "name": "stdout",
     "output_type": "stream",
     "text": [
      "curl  \"https://data.cityofnewyork.us/api/views/{g6pj-hd8k,64uk-42ks,bc8t-ecyu,tesw-yqqr,bs8b-p36w,hg8x-zxpr,hu6m-9cfi,browse,rfu7-paqe,browse,8wi4-bsy4,speculation-watch-list.page,y7az-s7wc,dm9a-ab7w,52dp-yji6,xt6e-eyna,3x8r-34rs,bteb-rkif,xt6e-eyna}/rows.csv?accessType=DOWNLOAD&api_foundry=true\" -o \"#1.csv\"\n"
     ]
    }
   ],
   "source": [
    "# here is how to generate the curl command that you can copy and paste to the command-line.\n",
    "resource_ids=','.join(resources)\n",
    "print('curl  \"https://data.cityofnewyork.us/api/views/{%s}/rows.csv?accessType=DOWNLOAD&api_foundry=true\" -o \"#1.csv\"' % (resource_ids))"
   ]
  },
  {
   "cell_type": "code",
   "execution_count": 1,
   "metadata": {},
   "outputs": [
    {
     "name": "stdout",
     "output_type": "stream",
     "text": [
      "https://api.us.socrata.com//api/catalog/v1/autocomplete?domains=data.cityofnewyork.us&q=Energy+and+Water+Data+Disclosure+for+Local+Law+84\n"
     ]
    },
    {
     "data": {
      "text/plain": [
       "['Energy and Water Data Disclosure for Local Law 84 2021 (Data for Calendar Year 2020)',\n",
       " 'Energy and Water Data Disclosure for Local Law 84 2020 (Data for Calendar Year 2019)',\n",
       " 'Energy and Water Data Disclosure for Local Law 84 2019 (Data for Calendar Year 2018)',\n",
       " 'Energy and Water Data Disclosure for Local Law 84 2011 (Data for Calendar Year 2010)',\n",
       " 'Energy and Water Data Disclosure for Local Law 84 2018 (Data for Calendar Year 2017)',\n",
       " 'Energy and Water Data Disclosure for Local Law 84 2017 (Data for Calendar Year 2016)',\n",
       " 'Energy and Water Data Disclosure for Local Law 84 2016 (Data for Calendar Year 2015)',\n",
       " 'Energy and Water Data Disclosure for Local Law 84 2012 (Data for Calendar Year 2011)',\n",
       " 'Energy and Water Data Disclosure for Local Law 84 2015 (Data for Calendar Year 2014)',\n",
       " 'Energy and Water Data Disclosure for Local Law 84 2013 (Data for Calendar Year 2012)',\n",
       " 'Energy and Water Data Disclosure for Local Law 84 2014 (Data for Calendar Year 2013)']"
      ]
     },
     "execution_count": 1,
     "metadata": {},
     "output_type": "execute_result"
    }
   ],
   "source": [
    "\n",
    "\n",
    "# Set up the URL to the API entrypoint \n",
    "# See https://socratadiscovery.docs.apiary.io/#reference/0/find-by-domain/search-by-domain\n",
    "urlroot='api.us.socrata.com/'\n",
    "api_autocomplete_entrypoint='/api/catalog/v1/autocomplete'\n",
    "api_entrypoint='/api/catalog/v1'\n",
    "url='https://'+urlroot+api_autocomplete_entrypoint\n",
    "# Build the query string to pass to the API\n",
    "\n",
    "# First, specifiy the domain to search in\n",
    "domains='data.cityofnewyork.us'\n",
    "# and then by passing this string to search by title\n",
    "common_prefix='Energy and Water Data Disclosure for Local Law 84'\n",
    "\n",
    "params=dict(domains=domains,q=common_prefix)\n",
    "\n",
    "r = requests.get(url,params=params)\n",
    "payload=r.json()\n",
    "titles = list([x['title'] for x in payload['results']])\n",
    "\n",
    "# What do we have?\n",
    "print(r.url)\n",
    "titles\n"
   ]
  }
 ],
 "metadata": {
  "kernelspec": {
   "display_name": "Python 3 (ipykernel)",
   "language": "python",
   "name": "python3"
  },
  "language_info": {
   "codemirror_mode": {
    "name": "ipython",
    "version": 3
   },
   "file_extension": ".py",
   "mimetype": "text/x-python",
   "name": "python",
   "nbconvert_exporter": "python",
   "pygments_lexer": "ipython3",
   "version": "3.9.9"
  }
 },
 "nbformat": 4,
 "nbformat_minor": 2
}
